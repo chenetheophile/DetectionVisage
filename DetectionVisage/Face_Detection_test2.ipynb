{
 "cells": [
  {
   "cell_type": "raw",
   "source": [],
   "metadata": {
    "collapsed": false,
    "pycharm": {
     "name": ""
    }
   }
  },
  {
   "cell_type": "markdown",
   "source": [
    "# Installing dependencies"
   ],
   "metadata": {
    "collapsed": false
   },
   "outputs": [
    {
     "name": "stdout",
     "output_type": "stream",
     "text": [
      "Collecting labelme\n",
      "  Downloading labelme-5.0.4.tar.gz (1.5 MB)\n",
      "     ---------------------------------------- 1.5/1.5 MB 950.3 kB/s eta 0:00:00\n",
      "  Preparing metadata (setup.py): started\n",
      "  Preparing metadata (setup.py): finished with status 'done'\n",
      "Requirement already satisfied: tensorflow in c:\\users\\meat is delicious\\anaconda3\\lib\\site-packages (2.10.0)\n",
      "Collecting tensorflow-gpu\n",
      "  Downloading tensorflow_gpu-2.10.0-cp37-cp37m-win_amd64.whl (455.9 MB)\n",
      "     ------------------------------------ 455.9/455.9 MB 833.7 kB/s eta 0:00:00\n"
     ]
    },
    {
     "name": "stderr",
     "output_type": "stream",
     "text": [
      "WARNING: Ignoring invalid distribution -umpy (c:\\users\\meat is delicious\\anaconda3\\lib\\site-packages)\n",
      "WARNING: Ignoring invalid distribution -ffi (c:\\users\\meat is delicious\\anaconda3\\lib\\site-packages)\n",
      "WARNING: Ignoring invalid distribution -cipy (c:\\users\\meat is delicious\\anaconda3\\lib\\site-packages)\n",
      "WARNING: Ignoring invalid distribution -umpy (c:\\users\\meat is delicious\\anaconda3\\lib\\site-packages)\n",
      "WARNING: Ignoring invalid distribution -ffi (c:\\users\\meat is delicious\\anaconda3\\lib\\site-packages)\n",
      "WARNING: Ignoring invalid distribution -cipy (c:\\users\\meat is delicious\\anaconda3\\lib\\site-packages)\n",
      "ERROR: Could not find a version that satisfies the requirement opencv-pyhton (from versions: none)\n",
      "ERROR: No matching distribution found for opencv-pyhton\n",
      "WARNING: Ignoring invalid distribution -umpy (c:\\users\\meat is delicious\\anaconda3\\lib\\site-packages)\n",
      "WARNING: Ignoring invalid distribution -ffi (c:\\users\\meat is delicious\\anaconda3\\lib\\site-packages)\n",
      "WARNING: Ignoring invalid distribution -cipy (c:\\users\\meat is delicious\\anaconda3\\lib\\site-packages)\n",
      "WARNING: Ignoring invalid distribution -umpy (c:\\users\\meat is delicious\\anaconda3\\lib\\site-packages)\n",
      "WARNING: Ignoring invalid distribution -ffi (c:\\users\\meat is delicious\\anaconda3\\lib\\site-packages)\n",
      "WARNING: Ignoring invalid distribution -cipy (c:\\users\\meat is delicious\\anaconda3\\lib\\site-packages)\n",
      "WARNING: Ignoring invalid distribution -umpy (c:\\users\\meat is delicious\\anaconda3\\lib\\site-packages)\n",
      "WARNING: Ignoring invalid distribution -ffi (c:\\users\\meat is delicious\\anaconda3\\lib\\site-packages)\n",
      "WARNING: Ignoring invalid distribution -cipy (c:\\users\\meat is delicious\\anaconda3\\lib\\site-packages)\n"
     ]
    }
   ],
   "execution_count": 1
  },
  {
   "cell_type": "code",
   "execution_count": null,
   "metadata": {
    "collapsed": true
   },
   "outputs": [],
   "source": [
    "!pip install labelme tensorflow tensorflow-gpu opencv-pyhton matplotlib albumentations"
   ]
  },
  {
   "cell_type": "code",
   "execution_count": null,
   "outputs": [],
   "source": [
    "!pip install opencv-python"
   ],
   "metadata": {
    "collapsed": false
   }
  },
  {
   "cell_type": "code",
   "execution_count": null,
   "outputs": [],
   "source": [
    "import os\n",
    "import time\n",
    "import uuid\n",
    "import cv2\n",
    "\n",
    "#https://www.youtube.com/watch?v=N_W4EYtsa10"
   ],
   "metadata": {
    "collapsed": false
   }
  },
  {
   "cell_type": "code",
   "execution_count": null,
   "outputs": [],
   "source": [
    "#get path from the current folder of the file u'r coding in.\n",
    "#os.path.dirname(os.path.realpath(__file__))\n",
    "\n",
    "df = tfds.as_dataframe(ds.take(10), ds_info)"
   ],
   "metadata": {
    "collapsed": false
   }
  },
  {
   "cell_type": "code",
   "execution_count": null,
   "outputs": [],
   "source": [
    "#IMAGES_PATH = \"../Data/images/\"\n",
    "import random\n",
    "root=os.path.dirname(os.path.realpath(cv2.__file__))\n",
    "#IMAGES_PATH = \"../DetectionVisage/Data/images/\"\n",
    "#IMAGES_PATH = \"/DetectionVisage/Data/images/\"\n",
    "IMAGES_PATH = \"C:/Users/Meatisdelicious/Documents/5_Cours_ingé3/7_Projet_Fin_Annee/DetectionVisage/Data/images/\"\n",
    "\n",
    "number_images=1\n",
    "cap = cv2.VideoCapture(0) #gaffe au port de la camera mdrrr\n",
    "for imgnum in range(number_images):\n",
    "    time.sleep(5)\n",
    "    print('Collecting image {}'.format(imgnum))\n",
    "    ret,frame =cap.read() #captures the frame and allows us to write it down\n",
    "    print(\"ret:\",ret)\n",
    "    imgname = os.path.join(IMAGES_PATH,f'{imgnum+random.randint(0,100)}wasa.jpg')\n",
    "    print(imgname)\n",
    "    fwrite=cv2.imwrite(imgname,frame)\n",
    "    print(fwrite)\n",
    "    f = open(imgname, mode='w') # if this work, the writing will work...\n",
    "    time.sleep(1)\n",
    "    cv2.imshow('frame',frame)\n",
    "    if cv2.waitKey(1) & 0xFF == ord('q'):\n",
    "        break\n",
    "cap.release()\n",
    "cv2.destroyAllWindows()"
   ],
   "metadata": {
    "collapsed": false
   }
  },
  {
   "cell_type": "markdown",
   "source": [
    "# Anotate the labels with labelme"
   ],
   "metadata": {
    "collapsed": false
   }
  },
  {
   "cell_type": "code",
   "execution_count": null,
   "outputs": [],
   "source": [
    "!pip install labelme"
   ],
   "metadata": {
    "collapsed": false
   }
  },
  {
   "cell_type": "code",
   "execution_count": null,
   "outputs": [],
   "source": [
    "import tensorflow as tf\n",
    "import json\n",
    "import numpy as np\n",
    "from matplotlib import pyplot as plt"
   ],
   "metadata": {
    "collapsed": false
   }
  },
  {
   "cell_type": "code",
   "execution_count": null,
   "outputs": [],
   "source": [
    "# Avoid OOM errors\n",
    "gpus = tf.config.experimental.list_physical_devices('GPU')\n",
    "for gpu in gpus:\n",
    "    tf.config.experimental.set_memory_growth(gpu, True)\n",
    "\n",
    "tf.config.list_physical_devices('GPU')"
   ],
   "metadata": {
    "collapsed": false
   }
  },
  {
   "cell_type": "code",
   "execution_count": null,
   "outputs": [],
   "source": [
    "# Loading images into DF pipeline\n",
    "\n",
    "images = tf.data.Dataset.list_files('data\\\\images\\\\*.jpg')\n",
    "images.as_numpy_iterator().next()\n",
    "\n",
    "def load_image(x):\n",
    "    byte_img = tf.io.read_file(x)\n",
    "    img = tf.io.decode_jpeg(byte_img)\n",
    "    return img\n",
    "\n",
    "images = images.map(load_image)\n",
    "images.as_numpy_iterator().next()\n",
    "type(images)"
   ],
   "metadata": {
    "collapsed": false
   }
  }
 ],
 "metadata": {
  "kernelspec": {
   "display_name": "Python 3",
   "language": "python",
   "name": "python3"
  },
  "language_info": {
   "codemirror_mode": {
    "name": "ipython",
    "version": 2
   },
   "file_extension": ".py",
   "mimetype": "text/x-python",
   "name": "python",
   "nbconvert_exporter": "python",
   "pygments_lexer": "ipython2",
   "version": "2.7.6"
  }
 },
 "nbformat": 4,
 "nbformat_minor": 0
}
