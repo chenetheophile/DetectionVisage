{
 "cells": [
  {
   "cell_type": "code",
   "execution_count": 46,
   "metadata": {
    "_cell_guid": "b1eb822e-89bd-42d4-853a-f14948f28cc1",
    "_uuid": "d41d8301-2d7c-41ab-9cdb-e99ff60c66fd",
    "execution": {
     "iopub.execute_input": "2021-06-26T12:57:37.115876Z",
     "iopub.status.busy": "2021-06-26T12:57:37.115544Z",
     "iopub.status.idle": "2021-06-26T12:57:37.120632Z",
     "shell.execute_reply": "2021-06-26T12:57:37.119628Z",
     "shell.execute_reply.started": "2021-06-26T12:57:37.115845Z"
    },
    "jupyter": {
     "outputs_hidden": false
    },
    "pycharm": {
     "is_executing": true
    }
   },
   "outputs": [],
   "source": [
    "import numpy as np\n",
    "import tensorflow as tf\n",
    "import keras\n",
    "from keras.models import Sequential\n",
    "from keras.layers import Conv2D,MaxPooling2D,Dense,Flatten,Dropout\n",
    "from sklearn.metrics import accuracy_score\n",
    "\n",
    "import matplotlib.pyplot as plt\n",
    "#from keras.layers.normalization import BatchNormalization\n",
    "from tensorflow.keras.layers import BatchNormalization\n",
    "from keras_preprocessing import image\n",
    "from tensorflow.keras.preprocessing.image import ImageDataGenerator\n",
    "\n",
    "import joblib"
   ]
  },
  {
   "cell_type": "code",
   "execution_count": 47,
   "metadata": {
    "execution": {
     "iopub.execute_input": "2021-06-26T12:20:53.032219Z",
     "iopub.status.busy": "2021-06-26T12:20:53.031888Z",
     "iopub.status.idle": "2021-06-26T12:20:53.361376Z",
     "shell.execute_reply": "2021-06-26T12:20:53.360491Z",
     "shell.execute_reply.started": "2021-06-26T12:20:53.032183Z"
    }
   },
   "outputs": [
    {
     "name": "stdout",
     "output_type": "stream",
     "text": [
      "Found 4362 files belonging to 43 classes.\n"
     ]
    }
   ],
   "source": [
    "#train_dir=\"../input/face_recognition_dataset/Original_Images/Original_Images/\"\n",
    "#train_dir=\"/home/meatisdelicious/DetectionVisage/DetectionVisage/FaceDetectionV4/input/face_recognition_dataset/Original_Images/Original_Images/\"\n",
    "#Unmodified Dataset\n",
    "#train_dir=\"input/face_recognition_dataset/Original_Images/Original_Images\"\n",
    "#Modified Dataset\n",
    "train_dir=\"input/face_recognition_dataset/Original_Images_more/\"\n",
    "\n",
    "# Quand on a une classification à faire.\n",
    "generator = ImageDataGenerator()\n",
    "#seed : melange tjr de la meme manière le dataset à partir du meme argument\n",
    "dataset = tf.keras.utils.image_dataset_from_directory(train_dir,image_size=(224, 224),batch_size=32, shuffle=True, seed=123)\n",
    "dataset_size = len(dataset)\n",
    "train_test_split=0.8\n",
    "train_ds=dataset.take(int(train_test_split*dataset_size))\n",
    "test_ds=dataset.skip(int(train_test_split*dataset_size))\n",
    "\n",
    "classes = dataset.class_names"
   ]
  },
  {
   "cell_type": "code",
   "execution_count": 48,
   "metadata": {
    "execution": {
     "iopub.execute_input": "2021-06-26T12:20:53.363492Z",
     "iopub.status.busy": "2021-06-26T12:20:53.363151Z",
     "iopub.status.idle": "2021-06-26T12:20:56.041945Z",
     "shell.execute_reply": "2021-06-26T12:20:56.040192Z",
     "shell.execute_reply.started": "2021-06-26T12:20:53.363456Z"
    }
   },
   "outputs": [],
   "source": [
    "model = Sequential()\n",
    "model.add(Conv2D(32, kernel_size = (3,3), activation='relu', input_shape=(224,224,3)))\n",
    "model.add(MaxPooling2D(pool_size=(2,2)))\n",
    "model.add(BatchNormalization())\n",
    "model.add(Conv2D(64, kernel_size=(3,3), activation='relu'))\n",
    "model.add(MaxPooling2D(pool_size=(2,2)))\n",
    "model.add(BatchNormalization())\n",
    "model.add(Conv2D(64, kernel_size=(3,3), activation='relu'))\n",
    "model.add(MaxPooling2D(pool_size=(2,2)))\n",
    "model.add(BatchNormalization())\n",
    "model.add(Conv2D(96, kernel_size=(3,3), activation='relu'))\n",
    "model.add(MaxPooling2D(pool_size=(2,2)))\n",
    "model.add(BatchNormalization())\n",
    "model.add(Conv2D(32, kernel_size=(3,3), activation='relu'))\n",
    "model.add(MaxPooling2D(pool_size=(2,2)))\n",
    "model.add(BatchNormalization())\n",
    "model.add(Dropout(0.2))\n",
    "model.add(Flatten())\n",
    "model.add(Dense(128, activation='relu'))\n",
    "model.add(Dropout(0.3))\n",
    "model.add(Dense(len(classes),activation='softmax'))"
   ]
  },
  {
   "cell_type": "code",
   "execution_count": 49,
   "metadata": {
    "execution": {
     "iopub.execute_input": "2021-06-26T12:20:56.044073Z",
     "iopub.status.busy": "2021-06-26T12:20:56.043366Z",
     "iopub.status.idle": "2021-06-26T12:20:56.095652Z",
     "shell.execute_reply": "2021-06-26T12:20:56.094820Z",
     "shell.execute_reply.started": "2021-06-26T12:20:56.044033Z"
    }
   },
   "outputs": [
    {
     "name": "stdout",
     "output_type": "stream",
     "text": [
      "Model: \"sequential_4\"\n",
      "_________________________________________________________________\n",
      " Layer (type)                Output Shape              Param #   \n",
      "=================================================================\n",
      " conv2d_20 (Conv2D)          (None, 222, 222, 32)      896       \n",
      "                                                                 \n",
      " max_pooling2d_20 (MaxPoolin  (None, 111, 111, 32)     0         \n",
      " g2D)                                                            \n",
      "                                                                 \n",
      " batch_normalization_20 (Bat  (None, 111, 111, 32)     128       \n",
      " chNormalization)                                                \n",
      "                                                                 \n",
      " conv2d_21 (Conv2D)          (None, 109, 109, 64)      18496     \n",
      "                                                                 \n",
      " max_pooling2d_21 (MaxPoolin  (None, 54, 54, 64)       0         \n",
      " g2D)                                                            \n",
      "                                                                 \n",
      " batch_normalization_21 (Bat  (None, 54, 54, 64)       256       \n",
      " chNormalization)                                                \n",
      "                                                                 \n",
      " conv2d_22 (Conv2D)          (None, 52, 52, 64)        36928     \n",
      "                                                                 \n",
      " max_pooling2d_22 (MaxPoolin  (None, 26, 26, 64)       0         \n",
      " g2D)                                                            \n",
      "                                                                 \n",
      " batch_normalization_22 (Bat  (None, 26, 26, 64)       256       \n",
      " chNormalization)                                                \n",
      "                                                                 \n",
      " conv2d_23 (Conv2D)          (None, 24, 24, 96)        55392     \n",
      "                                                                 \n",
      " max_pooling2d_23 (MaxPoolin  (None, 12, 12, 96)       0         \n",
      " g2D)                                                            \n",
      "                                                                 \n",
      " batch_normalization_23 (Bat  (None, 12, 12, 96)       384       \n",
      " chNormalization)                                                \n",
      "                                                                 \n",
      " conv2d_24 (Conv2D)          (None, 10, 10, 32)        27680     \n",
      "                                                                 \n",
      " max_pooling2d_24 (MaxPoolin  (None, 5, 5, 32)         0         \n",
      " g2D)                                                            \n",
      "                                                                 \n",
      " batch_normalization_24 (Bat  (None, 5, 5, 32)         128       \n",
      " chNormalization)                                                \n",
      "                                                                 \n",
      " dropout_8 (Dropout)         (None, 5, 5, 32)          0         \n",
      "                                                                 \n",
      " flatten_4 (Flatten)         (None, 800)               0         \n",
      "                                                                 \n",
      " dense_8 (Dense)             (None, 128)               102528    \n",
      "                                                                 \n",
      " dropout_9 (Dropout)         (None, 128)               0         \n",
      "                                                                 \n",
      " dense_9 (Dense)             (None, 43)                5547      \n",
      "                                                                 \n",
      "=================================================================\n",
      "Total params: 248,619\n",
      "Trainable params: 248,043\n",
      "Non-trainable params: 576\n",
      "_________________________________________________________________\n"
     ]
    }
   ],
   "source": [
    "model.compile(\n",
    "    loss = 'sparse_categorical_crossentropy',\n",
    "    optimizer = 'adam',\n",
    "    metrics=['binary_accuracy', 'categorical_accuracy'])\n",
    "    #metrics = [\"accuracy\"])\n",
    "model.summary()"
   ]
  },
  {
   "cell_type": "code",
   "execution_count": 50,
   "metadata": {
    "execution": {
     "iopub.execute_input": "2021-06-26T12:20:56.097818Z",
     "iopub.status.busy": "2021-06-26T12:20:56.096834Z",
     "iopub.status.idle": "2021-06-26T12:54:06.353266Z",
     "shell.execute_reply": "2021-06-26T12:54:06.352306Z",
     "shell.execute_reply.started": "2021-06-26T12:20:56.097755Z"
    }
   },
   "outputs": [
    {
     "name": "stdout",
     "output_type": "stream",
     "text": [
      "Epoch 1/2\n",
      "  5/109 [>.............................] - ETA: 6:30 - loss: 4.4666 - binary_accuracy: 0.0063 - categorical_accuracy: 0.0000e+00"
     ]
    }
   ],
   "source": [
    "#history = model.fit(train_ds,epochs= 30, batch_size=32)\n",
    "history = model.fit(train_ds,epochs= 2, batch_size=32, validation_data=test_ds)"
   ]
  },
  {
   "cell_type": "code",
   "execution_count": null,
   "metadata": {},
   "outputs": [],
   "source": [
    "# Saving Model\n",
    "filename = 'final_model1.hdf5'\n",
    "joblib.dump(history, filename)"
   ]
  },
  {
   "cell_type": "code",
   "execution_count": null,
   "metadata": {},
   "outputs": [],
   "source": [
    "# load the model from disk\n",
    "model_saved = joblib.load(filename)"
   ]
  },
  {
   "cell_type": "code",
   "execution_count": null,
   "metadata": {
    "execution": {
     "iopub.execute_input": "2021-06-26T12:55:14.741819Z",
     "iopub.status.busy": "2021-06-26T12:55:14.741475Z",
     "iopub.status.idle": "2021-06-26T12:55:14.878462Z",
     "shell.execute_reply": "2021-06-26T12:55:14.877528Z",
     "shell.execute_reply.started": "2021-06-26T12:55:14.741781Z"
    }
   },
   "outputs": [],
   "source": [
    "plt.plot(model_saved.history['categorical_accuracy'])\n",
    "plt.plot(model_saved.history['loss'])\n",
    "plt.xlabel('Time')\n",
    "plt.legend(['categorical_accuracy', 'loss'])\n",
    "plt.show()"
   ]
  },
  {
   "cell_type": "code",
   "execution_count": null,
   "metadata": {
    "execution": {
     "iopub.execute_input": "2021-06-26T12:54:06.611240Z",
     "iopub.status.busy": "2021-06-26T12:54:06.609208Z",
     "iopub.status.idle": "2021-06-26T12:54:06.620680Z",
     "shell.execute_reply": "2021-06-26T12:54:06.619885Z",
     "shell.execute_reply.started": "2021-06-26T12:54:06.611199Z"
    }
   },
   "outputs": [],
   "source": [
    "from sklearn.metrics import accuracy_score\n",
    "\n",
    "def predict_image(image_path):\n",
    "    img = image.load_img(image_path, target_size=(224,224,3))\n",
    "    #plt.imshow(img)\n",
    "    #plt.show()\n",
    "    x = image.img_to_array(img)\n",
    "    x = np.expand_dims(x, axis=0)\n",
    "    images = np.vstack([x])\n",
    "    \n",
    "    pred = model.predict(images, batch_size=32)\n",
    "    print(pred)\n",
    "\n",
    "    # Prediction accuracy\n",
    "    #--> le pb que j'arrive pas à resoudre est ici\n",
    "    print(\"Score:\",(np.argmax(pred)),\"%\")\n",
    "    model.evaluate(test_ds)\n",
    "\n",
    "    print(\"Actual result: \"+(image_path.split(\"/\")[-1]).split(\"_\")[0])\n",
    "    print(\"Predicted result: \"+classes[np.argmax(pred)])\n",
    "\n",
    "predict_image(\"/home/meatisdelicious/DetectionVisage/DetectionVisage/FaceDetectionV4/input/face_recognition_dataset/Original_Images/Original_Images/Brad Pitt/Brad Pitt_95.jpg\")"
   ]
  }
 ],
 "metadata": {
  "kernelspec": {
   "display_name": "venv",
   "language": "python",
   "name": "python3"
  },
  "language_info": {
   "codemirror_mode": {
    "name": "ipython",
    "version": 3
   },
   "file_extension": ".py",
   "mimetype": "text/x-python",
   "name": "python",
   "nbconvert_exporter": "python",
   "pygments_lexer": "ipython3",
   "version": "3.10.6"
  },
  "vscode": {
   "interpreter": {
    "hash": "eb5aa669b2da7d555f1eb21192b2f078c03bf1110abc7e77eca635187c601c47"
   }
  }
 },
 "nbformat": 4,
 "nbformat_minor": 4
}
