{
 "cells": [
  {
   "cell_type": "code",
   "execution_count": 1,
   "metadata": {
    "_cell_guid": "b1eb822e-89bd-42d4-853a-f14948f28cc1",
    "_uuid": "d41d8301-2d7c-41ab-9cdb-e99ff60c66fd",
    "execution": {
     "iopub.execute_input": "2021-06-26T12:57:37.115876Z",
     "iopub.status.busy": "2021-06-26T12:57:37.115544Z",
     "iopub.status.idle": "2021-06-26T12:57:37.120632Z",
     "shell.execute_reply": "2021-06-26T12:57:37.119628Z",
     "shell.execute_reply.started": "2021-06-26T12:57:37.115845Z"
    },
    "jupyter": {
     "outputs_hidden": false
    },
    "pycharm": {
     "is_executing": true
    }
   },
   "outputs": [],
   "source": [
    "import numpy as np\n",
    "import tensorflow as tf\n",
    "import keras\n",
    "from keras.models import Sequential\n",
    "from keras.layers import Conv2D,MaxPooling2D,Dense,Flatten,Dropout\n",
    "from sklearn.metrics import accuracy_score\n",
    "\n",
    "import matplotlib.pyplot as plt\n",
    "#from keras.layers.normalization import BatchNormalization\n",
    "from tensorflow.keras.layers import BatchNormalization\n",
    "#from keras_preprocessing import image\n",
    "from tensorflow.keras.preprocessing.image import ImageDataGenerator\n",
    "\n",
    "import joblib\n",
    "\n",
    "#another problem bitch "
   ]
  },
  {
   "cell_type": "code",
   "execution_count": 4,
   "metadata": {
    "execution": {
     "iopub.execute_input": "2021-06-26T12:20:53.032219Z",
     "iopub.status.busy": "2021-06-26T12:20:53.031888Z",
     "iopub.status.idle": "2021-06-26T12:20:53.361376Z",
     "shell.execute_reply": "2021-06-26T12:20:53.360491Z",
     "shell.execute_reply.started": "2021-06-26T12:20:53.032183Z"
    }
   },
   "outputs": [
    {
     "name": "stdout",
     "output_type": "stream",
     "text": [
      "Found 2562 files belonging to 30 classes.\n"
     ]
    }
   ],
   "source": [
    "#Unmodified Dataset\n",
    "#train_dir=\"Original Images/Original Images\"\n",
    "train_dir = \"Datasets/Faces_in_folders\"\n",
    "#Modified Dataset\n",
    "#train_dir=\"/face_recognition_dataset/Original_Images_more/\"\n",
    "\n",
    "# Quand on a une classification à faire.\n",
    "generator = ImageDataGenerator()\n",
    "#seed : melange tjr de la meme manière le dataset à partir du meme argument\n",
    "dataset = tf.keras.utils.image_dataset_from_directory(train_dir,image_size=(224, 224),batch_size=32, shuffle=True, seed=123)\n",
    "dataset_size = len(dataset)\n",
    "train_test_split=0.8\n",
    "train_ds=dataset.take(int(train_test_split*dataset_size))\n",
    "test_ds=dataset.skip(int(train_test_split*dataset_size))\n",
    "\n",
    "classes = dataset.class_names"
   ]
  },
  {
   "cell_type": "code",
   "execution_count": 5,
   "metadata": {
    "execution": {
     "iopub.execute_input": "2021-06-26T12:20:53.363492Z",
     "iopub.status.busy": "2021-06-26T12:20:53.363151Z",
     "iopub.status.idle": "2021-06-26T12:20:56.041945Z",
     "shell.execute_reply": "2021-06-26T12:20:56.040192Z",
     "shell.execute_reply.started": "2021-06-26T12:20:53.363456Z"
    }
   },
   "outputs": [],
   "source": [
    "model = Sequential()\n",
    "model.add(Conv2D(32, kernel_size = (3,3), activation='relu', input_shape=(224,224,3)))\n",
    "model.add(MaxPooling2D(pool_size=(2,2)))\n",
    "model.add(BatchNormalization())\n",
    "model.add(Conv2D(64, kernel_size=(3,3), activation='relu'))\n",
    "model.add(MaxPooling2D(pool_size=(2,2)))\n",
    "model.add(BatchNormalization())\n",
    "model.add(Conv2D(64, kernel_size=(3,3), activation='relu'))\n",
    "model.add(MaxPooling2D(pool_size=(2,2)))\n",
    "model.add(BatchNormalization())\n",
    "model.add(Conv2D(96, kernel_size=(3,3), activation='relu'))\n",
    "model.add(MaxPooling2D(pool_size=(2,2)))\n",
    "model.add(BatchNormalization())\n",
    "model.add(Conv2D(32, kernel_size=(3,3), activation='relu'))\n",
    "model.add(MaxPooling2D(pool_size=(2,2)))\n",
    "model.add(BatchNormalization())\n",
    "model.add(Dropout(0.2))\n",
    "model.add(Flatten())\n",
    "model.add(Dense(128, activation='relu'))\n",
    "#model.add(Dropout(0.3))\n",
    "model.add(Dense(len(classes),activation='softmax'))\n",
    "# 20 couches\n"
   ]
  },
  {
   "cell_type": "code",
   "execution_count": 6,
   "metadata": {
    "execution": {
     "iopub.execute_input": "2021-06-26T12:20:56.044073Z",
     "iopub.status.busy": "2021-06-26T12:20:56.043366Z",
     "iopub.status.idle": "2021-06-26T12:20:56.095652Z",
     "shell.execute_reply": "2021-06-26T12:20:56.094820Z",
     "shell.execute_reply.started": "2021-06-26T12:20:56.044033Z"
    }
   },
   "outputs": [
    {
     "name": "stdout",
     "output_type": "stream",
     "text": [
      "Model: \"sequential\"\n",
      "_________________________________________________________________\n",
      " Layer (type)                Output Shape              Param #   \n",
      "=================================================================\n",
      " conv2d (Conv2D)             (None, 222, 222, 32)      896       \n",
      "                                                                 \n",
      " max_pooling2d (MaxPooling2D  (None, 111, 111, 32)     0         \n",
      " )                                                               \n",
      "                                                                 \n",
      " batch_normalization (BatchN  (None, 111, 111, 32)     128       \n",
      " ormalization)                                                   \n",
      "                                                                 \n",
      " conv2d_1 (Conv2D)           (None, 109, 109, 64)      18496     \n",
      "                                                                 \n",
      " max_pooling2d_1 (MaxPooling  (None, 54, 54, 64)       0         \n",
      " 2D)                                                             \n",
      "                                                                 \n",
      " batch_normalization_1 (Batc  (None, 54, 54, 64)       256       \n",
      " hNormalization)                                                 \n",
      "                                                                 \n",
      " conv2d_2 (Conv2D)           (None, 52, 52, 64)        36928     \n",
      "                                                                 \n",
      " max_pooling2d_2 (MaxPooling  (None, 26, 26, 64)       0         \n",
      " 2D)                                                             \n",
      "                                                                 \n",
      " batch_normalization_2 (Batc  (None, 26, 26, 64)       256       \n",
      " hNormalization)                                                 \n",
      "                                                                 \n",
      " conv2d_3 (Conv2D)           (None, 24, 24, 96)        55392     \n",
      "                                                                 \n",
      " max_pooling2d_3 (MaxPooling  (None, 12, 12, 96)       0         \n",
      " 2D)                                                             \n",
      "                                                                 \n",
      " batch_normalization_3 (Batc  (None, 12, 12, 96)       384       \n",
      " hNormalization)                                                 \n",
      "                                                                 \n",
      " conv2d_4 (Conv2D)           (None, 10, 10, 32)        27680     \n",
      "                                                                 \n",
      " max_pooling2d_4 (MaxPooling  (None, 5, 5, 32)         0         \n",
      " 2D)                                                             \n",
      "                                                                 \n",
      " batch_normalization_4 (Batc  (None, 5, 5, 32)         128       \n",
      " hNormalization)                                                 \n",
      "                                                                 \n",
      " dropout (Dropout)           (None, 5, 5, 32)          0         \n",
      "                                                                 \n",
      " flatten (Flatten)           (None, 800)               0         \n",
      "                                                                 \n",
      " dense (Dense)               (None, 128)               102528    \n",
      "                                                                 \n",
      " dense_1 (Dense)             (None, 30)                3870      \n",
      "                                                                 \n",
      "=================================================================\n",
      "Total params: 246,942\n",
      "Trainable params: 246,366\n",
      "Non-trainable params: 576\n",
      "_________________________________________________________________\n"
     ]
    }
   ],
   "source": [
    "model.compile(\n",
    "    loss = 'sparse_categorical_crossentropy',\n",
    "    optimizer = 'adam',\n",
    "    metrics=['binary_accuracy', 'categorical_accuracy'])\n",
    "model.summary()"
   ]
  },
  {
   "cell_type": "code",
   "execution_count": 7,
   "metadata": {
    "execution": {
     "iopub.execute_input": "2021-06-26T12:20:56.097818Z",
     "iopub.status.busy": "2021-06-26T12:20:56.096834Z",
     "iopub.status.idle": "2021-06-26T12:54:06.353266Z",
     "shell.execute_reply": "2021-06-26T12:54:06.352306Z",
     "shell.execute_reply.started": "2021-06-26T12:20:56.097755Z"
    }
   },
   "outputs": [
    {
     "name": "stdout",
     "output_type": "stream",
     "text": [
      "Epoch 1/15\n",
      "64/64 [==============================] - 103s 2s/step - loss: 3.2090 - binary_accuracy: 0.0181 - categorical_accuracy: 0.0039 - val_loss: 3.2368 - val_binary_accuracy: 0.0195 - val_categorical_accuracy: 0.0000e+00\n",
      "Epoch 2/15\n",
      "64/64 [==============================] - 138s 2s/step - loss: 2.2188 - binary_accuracy: 0.0174 - categorical_accuracy: 0.0029 - val_loss: 2.2636 - val_binary_accuracy: 0.0312 - val_categorical_accuracy: 0.0058\n",
      "Epoch 3/15\n",
      "64/64 [==============================] - 145s 2s/step - loss: 1.5193 - binary_accuracy: 0.0186 - categorical_accuracy: 0.0068 - val_loss: 2.3147 - val_binary_accuracy: 0.0259 - val_categorical_accuracy: 0.0214\n",
      "Epoch 4/15\n",
      "64/64 [==============================] - 146s 2s/step - loss: 1.0685 - binary_accuracy: 0.0197 - categorical_accuracy: 0.0132 - val_loss: 1.3175 - val_binary_accuracy: 0.0221 - val_categorical_accuracy: 0.0272\n",
      "Epoch 5/15\n",
      "64/64 [==============================] - 150s 2s/step - loss: 0.7492 - binary_accuracy: 0.0188 - categorical_accuracy: 0.0137 - val_loss: 1.1593 - val_binary_accuracy: 0.0220 - val_categorical_accuracy: 0.0195\n",
      "Epoch 6/15\n",
      "64/64 [==============================] - 133s 2s/step - loss: 0.4663 - binary_accuracy: 0.0182 - categorical_accuracy: 0.0166 - val_loss: 1.1123 - val_binary_accuracy: 0.0275 - val_categorical_accuracy: 0.0292\n",
      "Epoch 7/15\n",
      "64/64 [==============================] - 162s 3s/step - loss: 0.3425 - binary_accuracy: 0.0192 - categorical_accuracy: 0.0186 - val_loss: 0.9678 - val_binary_accuracy: 0.0201 - val_categorical_accuracy: 0.0195\n",
      "Epoch 8/15\n",
      "64/64 [==============================] - 141s 2s/step - loss: 0.2427 - binary_accuracy: 0.0191 - categorical_accuracy: 0.0171 - val_loss: 1.0745 - val_binary_accuracy: 0.0275 - val_categorical_accuracy: 0.0642\n",
      "Epoch 9/15\n",
      "64/64 [==============================] - 129s 2s/step - loss: 0.2015 - binary_accuracy: 0.0186 - categorical_accuracy: 0.0181 - val_loss: 0.9081 - val_binary_accuracy: 0.0237 - val_categorical_accuracy: 0.0214\n",
      "Epoch 10/15\n",
      "64/64 [==============================] - 145s 2s/step - loss: 0.1509 - binary_accuracy: 0.0182 - categorical_accuracy: 0.0171 - val_loss: 1.0677 - val_binary_accuracy: 0.0239 - val_categorical_accuracy: 0.0389\n",
      "Epoch 11/15\n",
      "64/64 [==============================] - 161s 2s/step - loss: 0.0904 - binary_accuracy: 0.0200 - categorical_accuracy: 0.0200 - val_loss: 0.5905 - val_binary_accuracy: 0.0202 - val_categorical_accuracy: 0.0156\n",
      "Epoch 12/15\n",
      " 9/64 [===>..........................] - ETA: 1:24 - loss: 0.0648 - binary_accuracy: 0.0244 - categorical_accuracy: 0.0243"
     ]
    }
   ],
   "source": [
    "#history = model.fit(train_ds,epochs= 30, batch_size=32)\n",
    "history = model.fit(train_ds,epochs= 15, batch_size=32, validation_data=test_ds)"
   ]
  },
  {
   "cell_type": "code",
   "execution_count": null,
   "metadata": {},
   "outputs": [],
   "source": [
    "# Saving Model\n",
    "filename = 'model1_dataset_face_only.hdf5'\n",
    "#joblib.dump(history, filename)"
   ]
  },
  {
   "cell_type": "code",
   "execution_count": null,
   "metadata": {},
   "outputs": [],
   "source": [
    "# load the model from disk\n",
    "model_saved = joblib.load(filename)\n",
    "#model_saved.save('model_pres.h5')\n",
    "joblib.dump(model_saved, 'model_pres.h5')\n",
    "#tf.keras.models.save_model(model_saved,\"model_pres.h5\")"
   ]
  },
  {
   "cell_type": "code",
   "execution_count": null,
   "metadata": {
    "execution": {
     "iopub.execute_input": "2021-06-26T12:55:14.741819Z",
     "iopub.status.busy": "2021-06-26T12:55:14.741475Z",
     "iopub.status.idle": "2021-06-26T12:55:14.878462Z",
     "shell.execute_reply": "2021-06-26T12:55:14.877528Z",
     "shell.execute_reply.started": "2021-06-26T12:55:14.741781Z"
    }
   },
   "outputs": [],
   "source": [
    "plt.plot(model_saved.history['categorical_accuracy'])\n",
    "plt.plot(model_saved.history['loss'])\n",
    "plt.xlabel('Time')\n",
    "plt.legend(['categorical_accuracy', 'loss'])\n",
    "plt.show()"
   ]
  },
  {
   "cell_type": "code",
   "execution_count": null,
   "metadata": {
    "execution": {
     "iopub.execute_input": "2021-06-26T12:54:06.611240Z",
     "iopub.status.busy": "2021-06-26T12:54:06.609208Z",
     "iopub.status.idle": "2021-06-26T12:54:06.620680Z",
     "shell.execute_reply": "2021-06-26T12:54:06.619885Z",
     "shell.execute_reply.started": "2021-06-26T12:54:06.611199Z"
    }
   },
   "outputs": [],
   "source": [
    "from sklearn.metrics import accuracy_score\n",
    "\n",
    "def predict_image(image_path):\n",
    "    img = image.load_img(image_path, target_size=(224,224,3))\n",
    "    plt.imshow(img)\n",
    "    plt.show()\n",
    "    x = image.img_to_array(img)\n",
    "    x = np.expand_dims(x, axis=0)\n",
    "    images = np.vstack([x])\n",
    "    \n",
    "    pred = model.predict(images, batch_size=32)\n",
    "    \n",
    "    # Prediction accuracy\n",
    "    #--> le pb que j'arrive pas à resoudre est ici\n",
    "    print(\"Score:\",(np.argmax(pred)),\"%\")\n",
    "    model.evaluate(test_ds)\n",
    "\n",
    "    print(\"Actual result: \"+(image_path.split(\"/\")[-1]).split(\"_\")[0])\n",
    "    print(\"Predicted result: \"+classes[np.argmax(pred)])\n",
    "\n",
    "predict_image(\"/home/meatisdelicious/DetectionVisage/DetectionVisage/FaceDetectionV4/input/face_recognition_dataset/Original_Images/Original_Images/Brad Pitt/Brad Pitt_103.jpg\")"
   ]
  },
  {
   "cell_type": "code",
   "execution_count": null,
   "metadata": {},
   "outputs": [],
   "source": [
    "predict_image(\"/home/meatisdelicious/DetectionVisage/DetectionVisage/FaceDetectionV4/input/face_recognition_dataset/Original_Images/Original_Images/Camila Cabello/Camila Cabello_47.jpg\")"
   ]
  }
 ],
 "metadata": {
  "kernelspec": {
   "display_name": "Python 3",
   "language": "python",
   "name": "python3"
  },
  "language_info": {
   "codemirror_mode": {
    "name": "ipython",
    "version": 3
   },
   "file_extension": ".py",
   "mimetype": "text/x-python",
   "name": "python",
   "nbconvert_e