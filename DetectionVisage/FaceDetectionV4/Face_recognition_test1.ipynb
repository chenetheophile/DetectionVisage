{
 "cells": [
  {
   "cell_type": "code",
   "execution_count": null,
   "metadata": {
    "_cell_guid": "b1eb822e-89bd-42d4-853a-f14948f28cc1",
    "_uuid": "d41d8301-2d7c-41ab-9cdb-e99ff60c66fd",
    "execution": {
     "iopub.execute_input": "2021-06-26T12:57:37.115876Z",
     "iopub.status.busy": "2021-06-26T12:57:37.115544Z",
     "iopub.status.idle": "2021-06-26T12:57:37.120632Z",
     "shell.execute_reply": "2021-06-26T12:57:37.119628Z",
     "shell.execute_reply.started": "2021-06-26T12:57:37.115845Z"
    },
    "jupyter": {
     "outputs_hidden": false
    },
    "pycharm": {
     "is_executing": true
    }
   },
   "outputs": [],
   "source": [
    "import numpy as np\n",
    "import tensorflow as tf\n",
    "import keras\n",
    "from keras.models import Sequential\n",
    "from keras.layers import Conv2D,MaxPooling2D,Dense,Flatten,Dropout\n",
    "from sklearn.metrics import accuracy_score\n",
    "\n",
    "import matplotlib.pyplot as plt\n",
    "#from keras.layers.normalization import BatchNormalization\n",
    "from tensorflow.keras.layers import BatchNormalization\n",
    "from keras_preprocessing import image\n",
    "from tensorflow.keras.preprocessing.image import ImageDataGenerator\n",
    "\n",
    "import joblib"
   ]
  },
  {
   "cell_type": "code",
   "execution_count": null,
   "metadata": {
    "execution": {
     "iopub.execute_input": "2021-06-26T12:20:53.032219Z",
     "iopub.status.busy": "2021-06-26T12:20:53.031888Z",
     "iopub.status.idle": "2021-06-26T12:20:53.361376Z",
     "shell.execute_reply": "2021-06-26T12:20:53.360491Z",
     "shell.execute_reply.started": "2021-06-26T12:20:53.032183Z"
    }
   },
   "outputs": [],
   "source": [
    "#train_dir=\"../input/face_recognition_dataset/Original_Images/Original_Images/\"\n",
    "#train_dir=\"/home/meatisdelicious/DetectionVisage/DetectionVisage/FaceDetectionV4/input/face_recognition_dataset/Original_Images/Original_Images/\"\n",
    "#Unmodified Dataset\n",
    "train_dir=\"face_recognition_dataset/Original_Images/Original_Images\"\n",
    "#/home/meatisdelicious/DetectionVisage/DetectionVisage/FaceDetectionV4/face_recognition_dataset/Original_Images\n",
    "#Modified Dataset\n",
    "#train_dir=\"/face_recognition_dataset/Original_Images_more/\"\n",
    "\n",
    "# Quand on a une classification à faire.\n",
    "generator = ImageDataGenerator()\n",
    "#seed : melange tjr de la meme manière le dataset à partir du meme argument\n",
    "dataset = tf.keras.utils.image_dataset_from_directory(train_dir,image_size=(224, 224),batch_size=32, shuffle=True, seed=123)\n",
    "dataset_size = len(dataset)\n",
    "train_test_split=0.8\n",
    "train_ds=dataset.take(int(train_test_split*dataset_size))\n",
    "test_ds=dataset.skip(int(train_test_split*dataset_size))\n",
    "\n",
    "classes = dataset.class_names"
   ]
  },
  {
   "cell_type": "code",
   "execution_count": null,
   "metadata": {
    "execution": {
     "iopub.execute_input": "2021-06-26T12:20:53.363492Z",
     "iopub.status.busy": "2021-06-26T12:20:53.363151Z",
     "iopub.status.idle": "2021-06-26T12:20:56.041945Z",
     "shell.execute_reply": "2021-06-26T12:20:56.040192Z",
     "shell.execute_reply.started": "2021-06-26T12:20:53.363456Z"
    }
   },
   "outputs": [],
   "source": [
    "model = Sequential()\n",
    "model.add(Conv2D(32, kernel_size = (3,3), activation='relu', input_shape=(224,224,3)))\n",
    "model.add(MaxPooling2D(pool_size=(2,2)))\n",
    "model.add(BatchNormalization())\n",
    "model.add(Conv2D(64, kernel_size=(3,3), activation='relu'))\n",
    "model.add(MaxPooling2D(pool_size=(2,2)))\n",
    "model.add(BatchNormalization())\n",
    "model.add(Conv2D(64, kernel_size=(3,3), activation='relu'))\n",
    "model.add(MaxPooling2D(pool_size=(2,2)))\n",
    "model.add(BatchNormalization())\n",
    "model.add(Conv2D(96, kernel_size=(3,3), activation='relu'))\n",
    "model.add(MaxPooling2D(pool_size=(2,2)))\n",
    "model.add(BatchNormalization())\n",
    "model.add(Conv2D(32, kernel_size=(3,3), activation='relu'))\n",
    "model.add(MaxPooling2D(pool_size=(2,2)))\n",
    "model.add(BatchNormalization())\n",
    "model.add(Dropout(0.2))\n",
    "model.add(Flatten())\n",
    "model.add(Dense(128, activation='relu'))\n",
    "#model.add(Dropout(0.3))\n",
    "model.add(Dense(len(classes),activation='softmax'))"
   ]
  },
  {
   "cell_type": "code",
   "execution_count": null,
   "metadata": {
    "execution": {
     "iopub.execute_input": "2021-06-26T12:20:56.044073Z",
     "iopub.status.busy": "2021-06-26T12:20:56.043366Z",
     "iopub.status.idle": "2021-06-26T12:20:56.095652Z",
     "shell.execute_reply": "2021-06-26T12:20:56.094820Z",
     "shell.execute_reply.started": "2021-06-26T12:20:56.044033Z"
    }
   },
   "outputs": [],
   "source": [
    "model.compile(\n",
    "    loss = 'sparse_categorical_crossentropy',\n",
    "    optimizer = 'adam',\n",
    "    metrics=['binary_accuracy', 'categorical_accuracy'])\n",
    "model.summary()"
   ]
  },
  {
   "cell_type": "code",
   "execution_count": null,
   "metadata": {
    "execution": {
     "iopub.execute_input": "2021-06-26T12:20:56.097818Z",
     "iopub.status.busy": "2021-06-26T12:20:56.096834Z",
     "iopub.status.idle": "2021-06-26T12:54:06.353266Z",
     "shell.execute_reply": "2021-06-26T12:54:06.352306Z",
     "shell.execute_reply.started": "2021-06-26T12:20:56.097755Z"
    }
   },
   "outputs": [],
   "source": [
    "#history = model.fit(train_ds,epochs= 30, batch_size=32)\n",
    "history = model.fit(train_ds,epochs= 15, batch_size=32, validation_data=test_ds)"
   ]
  },
  {
   "cell_type": "code",
   "execution_count": null,
   "metadata": {},
   "outputs": [],
   "source": [
    "# Saving Model\n",
    "filename = 'model2_original_more_dataset.hdf5'\n",
    "joblib.dump(history, filename)"
   ]
  },
  {
   "cell_type": "code",
   "execution_count": null,
   "metadata": {},
   "outputs": [],
   "source": [
    "# load the model from disk\n",
    "model_saved = joblib.load(filename)"
   ]
  },
  {
   "cell_type": "code",
   "execution_count": null,
   "metadata": {
    "execution": {
     "iopub.execute_input": "2021-06-26T12:55:14.741819Z",
     "iopub.status.busy": "2021-06-26T12:55:14.741475Z",
     "iopub.status.idle": "2021-06-26T12:55:14.878462Z",
     "shell.execute_reply": "2021-06-26T12:55:14.877528Z",
     "shell.execute_reply.started": "2021-06-26T12:55:14.741781Z"
    }
   },
   "outputs": [],
   "source": [
    "plt.plot(model_saved.history['categorical_accuracy'])\n",
    "plt.plot(model_saved.history['loss'])\n",
    "plt.xlabel('Time')\n",
    "plt.legend(['categorical_accuracy', 'loss'])\n",
    "plt.show()"
   ]
  },
  {
   "cell_type": "code",
   "execution_count": null,
   "metadata": {
    "execution": {
     "iopub.execute_input": "2021-06-26T12:54:06.611240Z",
     "iopub.status.busy": "2021-06-26T12:54:06.609208Z",
     "iopub.status.idle": "2021-06-26T12:54:06.620680Z",
     "shell.execute_reply": "2021-06-26T12:54:06.619885Z",
     "shell.execute_reply.started": "2021-06-26T12:54:06.611199Z"
    }
   },
   "outputs": [],
   "source": [
    "from sklearn.metrics import accuracy_score\n",
    "\n",
    "def predict_image(image_path):\n",
    "    img = image.load_img(image_path, target_size=(224,224,3))\n",
    "    plt.imshow(img)\n",
    "    plt.show()\n",
    "    x = image.img_to_array(img)\n",
    "    x = np.expand_dims(x, axis=0)\n",
    "    images = np.vstack([x])\n",
    "    \n",
    "    pred = model.predict(images, batch_size=32)\n",
    "    \n",
    "    # Prediction accuracy\n",
    "    #--> le pb que j'arrive pas à resoudre est ici\n",
    "    print(\"Score:\",(np.argmax(pred)),\"%\")\n",
    "    model.evaluate(test_ds)\n",
    "\n",
    "    print(\"Actual result: \"+(image_path.split(\"/\")[-1]).split(\"_\")[0])\n",
    "    print(\"Predicted result: \"+classes[np.argmax(pred)])\n",
    "\n",
    "predict_image(\"/home/meatisdelicious/DetectionVisage/DetectionVisage/FaceDetectionV4/input/face_recognition_dataset/Original_Images/Original_Images/Brad Pitt/Brad Pitt_103.jpg\")"
   ]
  },
  {
   "cell_type": "code",
   "execution_count": null,
   "metadata": {},
   "outputs": [],
   "source": [
    "predict_image(\"/home/meatisdelicious/DetectionVisage/DetectionVisage/FaceDetectionV4/input/face_recognition_dataset/Original_Images/Original_Images/Camila Cabello/Camila Cabello_47.jpg\")"
   ]
  }
 ],
 "metadata": {
  "kernelspec": {
   "display_name": "venv",
   "language": "python",
   "name": "python3"
  },
  "language_info": {
   "codemirror_mode": {
    "name": "ipython",
    "version": 3
   },
   "file_extension": ".py",
   "mimetype": "text/x-python",
   "name": "python",
   "nbconvert_exporter": "python",
   "pygments_lexer": "ipython3",
   "version": "3.10.6"
  },
  "vscode": {
   "interpreter": {
    "hash": "eb5aa669b2da7d555f1eb21192b2f078c03bf1110abc7e77eca635187c601c47"
   }
  }
 },
 "nbformat": 4,
 "nbformat_minor": 4
}
